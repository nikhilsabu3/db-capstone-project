{
 "cells": [
  {
   "cell_type": "code",
   "execution_count": 1,
   "id": "05d48eaf-bbc5-4185-a3e3-e6e8fd311f5c",
   "metadata": {},
   "outputs": [
    {
     "name": "stdout",
     "output_type": "stream",
     "text": [
      "Requirement already satisfied: mysql-connector-python in /Library/Frameworks/Python.framework/Versions/3.13/lib/python3.13/site-packages (9.2.0)\n"
     ]
    }
   ],
   "source": [
    "!pip install mysql-connector-python"
   ]
  },
  {
   "cell_type": "code",
   "execution_count": 2,
   "id": "1a9f08d4-0b09-48de-a9a2-e121d940a5de",
   "metadata": {},
   "outputs": [],
   "source": [
    "import mysql.connector as connector"
   ]
  },
  {
   "cell_type": "code",
   "execution_count": 3,
   "id": "af9e8acb-b5ae-4e63-b096-038b91e17329",
   "metadata": {},
   "outputs": [],
   "source": [
    "connection = connector.connect(user = \"root\", password = \"12345678\")"
   ]
  },
  {
   "cell_type": "markdown",
   "id": "4a4920ab-76d0-455c-aa6b-3553f85f854b",
   "metadata": {},
   "source": [
    "Task One:"
   ]
  },
  {
   "cell_type": "code",
   "execution_count": 4,
   "id": "31502c98-05e9-48f0-ba7d-a493b9da9c11",
   "metadata": {},
   "outputs": [],
   "source": [
    "connection = connector.connect(user = \"root\", password = \"12345678\", db = \"LittleLemonDB\") "
   ]
  },
  {
   "cell_type": "code",
   "execution_count": 5,
   "id": "ce34c9ef-6cfd-47d9-919b-72094b6da841",
   "metadata": {},
   "outputs": [],
   "source": [
    "cursor = connection.cursor()"
   ]
  },
  {
   "cell_type": "markdown",
   "id": "a0107b28-3af5-4a7a-8ab7-05a647630f08",
   "metadata": {},
   "source": [
    "Task Two:"
   ]
  },
  {
   "cell_type": "code",
   "execution_count": 12,
   "id": "dad6c952-7cd6-495c-83ed-b2409987c996",
   "metadata": {},
   "outputs": [
    {
     "name": "stdout",
     "output_type": "stream",
     "text": [
      "['Address', 'Bookings', 'Country', 'Customers', 'Delivery', 'Employees', 'MenuItems', 'Menus', 'Orders', 'ordersview']\n"
     ]
    }
   ],
   "source": [
    "show_tables_query = \"SHOW TABLES\" \n",
    "cursor.execute(show_tables_query)\n",
    "results = [x[0] for x in cursor.fetchall()]\n",
    "print(results)"
   ]
  },
  {
   "cell_type": "markdown",
   "id": "37bad364-baa4-45a6-a64c-77930db83abb",
   "metadata": {},
   "source": [
    "Task Three:"
   ]
  },
  {
   "cell_type": "code",
   "execution_count": 15,
   "id": "e35c1811-532a-4d65-ba19-30e3a307f187",
   "metadata": {},
   "outputs": [
    {
     "name": "stdout",
     "output_type": "stream",
     "text": [
      "['FullName', 'ContactNumber', 'Email', 'BillAmount']\n",
      "('Laney Fadden', '989554432', 'laney.fadden@gmail.com', Decimal('353.50'))\n",
      "('Lia Bonar', '789876554', 'lia.bonar@yahoo.com', Decimal('211.00'))\n",
      "('Giacopo Bramich', '998979676', 'giacopo.bramich@hotmail.com', Decimal('188.75'))\n"
     ]
    }
   ],
   "source": [
    "task_3_query = \"\"\"SELECT Customers.CustomerName AS FullName, Customers.ContactNumber, Customers.Email, Orders.BillAmount \n",
    "FROM Customers JOIN Bookings ON Customers.CustomerID = Bookings.CustomerID \n",
    "JOIN Orders ON Orders.BookingID = Bookings.BookingID\n",
    "WHERE Orders.BillAmount > 60\"\"\"\n",
    "cursor.execute(task_3_query)\n",
    "results = cursor.fetchall()\n",
    "cols = [x for x in cursor.column_names]\n",
    "print (cols)\n",
    "for i in results:\n",
    "    print(i)"
   ]
  },
  {
   "cell_type": "code",
   "execution_count": 16,
   "id": "ef40ad74-fb67-440a-ba94-c869c4821871",
   "metadata": {},
   "outputs": [
    {
     "name": "stdout",
     "output_type": "stream",
     "text": [
      "The cursor is closed.\n",
      "MySQL connection is closed.\n"
     ]
    }
   ],
   "source": [
    "if connection.is_connected():  #Closing the cursor and connection.\n",
    "    cursor.close()\n",
    "    print(\"The cursor is closed.\")\n",
    "    connection.close()\n",
    "    print(\"MySQL connection is closed.\")\n",
    "else:\n",
    "    print(\"Connection is already closed.\")"
   ]
  },
  {
   "cell_type": "code",
   "execution_count": null,
   "id": "14222248-0b97-49e0-9283-943aad3655c9",
   "metadata": {},
   "outputs": [],
   "source": []
  }
 ],
 "metadata": {
  "kernelspec": {
   "display_name": "Python 3 (ipykernel)",
   "language": "python",
   "name": "python3"
  },
  "language_info": {
   "codemirror_mode": {
    "name": "ipython",
    "version": 3
   },
   "file_extension": ".py",
   "mimetype": "text/x-python",
   "name": "python",
   "nbconvert_exporter": "python",
   "pygments_lexer": "ipython3",
   "version": "3.13.2"
  }
 },
 "nbformat": 4,
 "nbformat_minor": 5
}
